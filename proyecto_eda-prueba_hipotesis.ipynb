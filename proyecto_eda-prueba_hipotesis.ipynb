{
 "cells": [
  {
   "cell_type": "markdown",
   "metadata": {},
   "source": [
    "# Análisis exploratorio de datos"
   ]
  },
  {
   "cell_type": "markdown",
   "metadata": {},
   "source": [
    "Estamos trabajando como analista para Zuber, una nueva empresa de viajes compartidos que se está lanzando en Chicago. La tarea es encontrar patrones en la información disponible. El objetivo es comprender las preferencias de los pasajeros y el impacto de los factores externos en los viajes."
   ]
  },
  {
   "cell_type": "markdown",
   "metadata": {},
   "source": [
    "## Inicialización"
   ]
  },
  {
   "cell_type": "markdown",
   "metadata": {},
   "source": [
    "Para inicar nuestro proyecto vamos a cargar nuestras librerias"
   ]
  },
  {
   "cell_type": "code",
   "execution_count": 1,
   "metadata": {
    "ExecuteTime": {
     "end_time": "2023-07-18T03:36:25.037131200Z",
     "start_time": "2023-07-18T03:36:21.590727400Z"
    }
   },
   "outputs": [],
   "source": [
    "# Cargar todas las librerías\n",
    "import pandas as pd\n",
    "import numpy as np\n",
    "import matplotlib.pyplot as plt\n",
    "from scipy import stats as st"
   ]
  },
  {
   "cell_type": "markdown",
   "metadata": {},
   "source": [
    "## Cargar los datos"
   ]
  },
  {
   "cell_type": "markdown",
   "metadata": {},
   "source": [
    "Vamos a cargar los datos de 3 dataset `project_sql_result_01.csv`, `project_sql_result_04.csv` y `project_sql_result_07.csv`"
   ]
  },
  {
   "cell_type": "code",
   "execution_count": 2,
   "metadata": {
    "ExecuteTime": {
     "end_time": "2023-07-18T03:36:25.090126600Z",
     "start_time": "2023-07-18T03:36:25.040129Z"
    }
   },
   "outputs": [],
   "source": [
    "# Carga los archivos de datos\n",
    "data_company = pd.read_csv('data/moved_project_sql_result_01.csv')\n",
    "data_location = pd.read_csv('data/moved_project_sql_result_04.csv')\n",
    "data_trip = pd.read_csv('data/moved_project_sql_result_07.csv')"
   ]
  },
  {
   "cell_type": "code",
   "execution_count": 3,
   "metadata": {
    "ExecuteTime": {
     "end_time": "2023-07-18T03:36:25.100127600Z",
     "start_time": "2023-07-18T03:36:25.072130500Z"
    }
   },
   "outputs": [
    {
     "name": "stdout",
     "output_type": "stream",
     "text": [
      "                      company_name  trips_amount\n",
      "0                        Flash Cab         19558\n",
      "1        Taxi Affiliation Services         11422\n",
      "2                 Medallion Leasin         10367\n",
      "3                       Yellow Cab          9888\n",
      "4  Taxi Affiliation Service Yellow          9299\n",
      "\n",
      "  dropoff_location_name  average_trips\n",
      "0                  Loop   10727.466667\n",
      "1           River North    9523.666667\n",
      "2         Streeterville    6664.666667\n",
      "3             West Loop    5163.666667\n",
      "4                O'Hare    2546.900000\n",
      "\n",
      "              start_ts weather_conditions  duration_seconds\n",
      "0  2017-11-25 16:00:00               Good            2410.0\n",
      "1  2017-11-25 14:00:00               Good            1920.0\n",
      "2  2017-11-25 12:00:00               Good            1543.0\n",
      "3  2017-11-04 10:00:00               Good            2512.0\n",
      "4  2017-11-11 07:00:00               Good            1440.0\n"
     ]
    }
   ],
   "source": [
    "# Verificamos que los datos se hayan cargado correctamente\n",
    "print(data_company.head())\n",
    "print()\n",
    "print(data_location.head())\n",
    "print()\n",
    "print(data_trip.head())"
   ]
  },
  {
   "cell_type": "markdown",
   "metadata": {},
   "source": [
    "## Preparar los datos"
   ]
  },
  {
   "cell_type": "markdown",
   "metadata": {},
   "source": [
    "Vamos a estudiar los datos que contienen nuestros datasets y verificar que los tipos de datos sean correctos para nuestro análisis"
   ]
  },
  {
   "cell_type": "code",
   "execution_count": 4,
   "metadata": {
    "ExecuteTime": {
     "end_time": "2023-07-18T03:36:25.183128500Z",
     "start_time": "2023-07-18T03:36:25.103129200Z"
    }
   },
   "outputs": [
    {
     "name": "stdout",
     "output_type": "stream",
     "text": [
      "<class 'pandas.core.frame.DataFrame'>\n",
      "RangeIndex: 64 entries, 0 to 63\n",
      "Data columns (total 2 columns):\n",
      " #   Column        Non-Null Count  Dtype \n",
      "---  ------        --------------  ----- \n",
      " 0   company_name  64 non-null     object\n",
      " 1   trips_amount  64 non-null     int64 \n",
      "dtypes: int64(1), object(1)\n",
      "memory usage: 1.1+ KB\n"
     ]
    }
   ],
   "source": [
    "# Imprimimos la información general/resumen sobre nuestro primer dataset\n",
    "data_company.info()"
   ]
  },
  {
   "cell_type": "code",
   "execution_count": 5,
   "metadata": {
    "ExecuteTime": {
     "end_time": "2023-07-18T03:36:25.209130100Z",
     "start_time": "2023-07-18T03:36:25.122129300Z"
    }
   },
   "outputs": [
    {
     "data": {
      "text/plain": "                      company_name  trips_amount\n0                        Flash Cab         19558\n1        Taxi Affiliation Services         11422\n2                 Medallion Leasin         10367\n3                       Yellow Cab          9888\n4  Taxi Affiliation Service Yellow          9299",
      "text/html": "<div>\n<style scoped>\n    .dataframe tbody tr th:only-of-type {\n        vertical-align: middle;\n    }\n\n    .dataframe tbody tr th {\n        vertical-align: top;\n    }\n\n    .dataframe thead th {\n        text-align: right;\n    }\n</style>\n<table border=\"1\" class=\"dataframe\">\n  <thead>\n    <tr style=\"text-align: right;\">\n      <th></th>\n      <th>company_name</th>\n      <th>trips_amount</th>\n    </tr>\n  </thead>\n  <tbody>\n    <tr>\n      <th>0</th>\n      <td>Flash Cab</td>\n      <td>19558</td>\n    </tr>\n    <tr>\n      <th>1</th>\n      <td>Taxi Affiliation Services</td>\n      <td>11422</td>\n    </tr>\n    <tr>\n      <th>2</th>\n      <td>Medallion Leasin</td>\n      <td>10367</td>\n    </tr>\n    <tr>\n      <th>3</th>\n      <td>Yellow Cab</td>\n      <td>9888</td>\n    </tr>\n    <tr>\n      <th>4</th>\n      <td>Taxi Affiliation Service Yellow</td>\n      <td>9299</td>\n    </tr>\n  </tbody>\n</table>\n</div>"
     },
     "execution_count": 5,
     "metadata": {},
     "output_type": "execute_result"
    }
   ],
   "source": [
    "# Se imprime una muestra de los datos\n",
    "data_company.head()"
   ]
  },
  {
   "cell_type": "markdown",
   "metadata": {},
   "source": [
    "El primer dataset `data_company` contiene los siguientes datos:\n",
    "- `company_name`: nombre de la empresa de taxis.\n",
    "- `trips_amount`: el número de viajes de cada compañía de taxis el 15 y 16 de noviembre de 2017."
   ]
  },
  {
   "cell_type": "code",
   "execution_count": 6,
   "metadata": {
    "ExecuteTime": {
     "end_time": "2023-07-18T03:36:25.210129200Z",
     "start_time": "2023-07-18T03:36:25.161127200Z"
    }
   },
   "outputs": [
    {
     "data": {
      "text/plain": "       trips_amount\ncount     64.000000\nmean    2145.484375\nstd     3812.310186\nmin        2.000000\n25%       20.750000\n50%      178.500000\n75%     2106.500000\nmax    19558.000000",
      "text/html": "<div>\n<style scoped>\n    .dataframe tbody tr th:only-of-type {\n        vertical-align: middle;\n    }\n\n    .dataframe tbody tr th {\n        vertical-align: top;\n    }\n\n    .dataframe thead th {\n        text-align: right;\n    }\n</style>\n<table border=\"1\" class=\"dataframe\">\n  <thead>\n    <tr style=\"text-align: right;\">\n      <th></th>\n      <th>trips_amount</th>\n    </tr>\n  </thead>\n  <tbody>\n    <tr>\n      <th>count</th>\n      <td>64.000000</td>\n    </tr>\n    <tr>\n      <th>mean</th>\n      <td>2145.484375</td>\n    </tr>\n    <tr>\n      <th>std</th>\n      <td>3812.310186</td>\n    </tr>\n    <tr>\n      <th>min</th>\n      <td>2.000000</td>\n    </tr>\n    <tr>\n      <th>25%</th>\n      <td>20.750000</td>\n    </tr>\n    <tr>\n      <th>50%</th>\n      <td>178.500000</td>\n    </tr>\n    <tr>\n      <th>75%</th>\n      <td>2106.500000</td>\n    </tr>\n    <tr>\n      <th>max</th>\n      <td>19558.000000</td>\n    </tr>\n  </tbody>\n</table>\n</div>"
     },
     "execution_count": 6,
     "metadata": {},
     "output_type": "execute_result"
    }
   ],
   "source": [
    "# Se imprime una descripción de los datos\n",
    "data_company.describe()"
   ]
  },
  {
   "cell_type": "code",
   "execution_count": 7,
   "metadata": {
    "ExecuteTime": {
     "end_time": "2023-07-18T03:36:25.212129900Z",
     "start_time": "2023-07-18T03:36:25.167127500Z"
    }
   },
   "outputs": [
    {
     "name": "stdout",
     "output_type": "stream",
     "text": [
      "Datos duplicados en el dataset: 0\n"
     ]
    }
   ],
   "source": [
    "# Verificamos que no haya datos duplicados en el dataset\n",
    "print('Datos duplicados en el dataset:', data_company.duplicated().sum())"
   ]
  },
  {
   "cell_type": "markdown",
   "metadata": {},
   "source": [
    "Al ver la muestra y resumen del dataset no encontramos datos faltantes, duplicados y los tipos de datos son correctos"
   ]
  },
  {
   "cell_type": "code",
   "execution_count": 8,
   "metadata": {
    "ExecuteTime": {
     "end_time": "2023-07-18T03:36:25.329130800Z",
     "start_time": "2023-07-18T03:36:25.185128100Z"
    }
   },
   "outputs": [
    {
     "name": "stdout",
     "output_type": "stream",
     "text": [
      "<class 'pandas.core.frame.DataFrame'>\n",
      "RangeIndex: 94 entries, 0 to 93\n",
      "Data columns (total 2 columns):\n",
      " #   Column                 Non-Null Count  Dtype  \n",
      "---  ------                 --------------  -----  \n",
      " 0   dropoff_location_name  94 non-null     object \n",
      " 1   average_trips          94 non-null     float64\n",
      "dtypes: float64(1), object(1)\n",
      "memory usage: 1.6+ KB\n"
     ]
    }
   ],
   "source": [
    "# Imprimimos la información general/resumen sobre nuestro segundo dataset\n",
    "data_location.info()"
   ]
  },
  {
   "cell_type": "code",
   "execution_count": 9,
   "metadata": {
    "ExecuteTime": {
     "end_time": "2023-07-18T03:36:25.330133700Z",
     "start_time": "2023-07-18T03:36:25.199134700Z"
    }
   },
   "outputs": [
    {
     "data": {
      "text/plain": "  dropoff_location_name  average_trips\n0                  Loop   10727.466667\n1           River North    9523.666667\n2         Streeterville    6664.666667\n3             West Loop    5163.666667\n4                O'Hare    2546.900000",
      "text/html": "<div>\n<style scoped>\n    .dataframe tbody tr th:only-of-type {\n        vertical-align: middle;\n    }\n\n    .dataframe tbody tr th {\n        vertical-align: top;\n    }\n\n    .dataframe thead th {\n        text-align: right;\n    }\n</style>\n<table border=\"1\" class=\"dataframe\">\n  <thead>\n    <tr style=\"text-align: right;\">\n      <th></th>\n      <th>dropoff_location_name</th>\n      <th>average_trips</th>\n    </tr>\n  </thead>\n  <tbody>\n    <tr>\n      <th>0</th>\n      <td>Loop</td>\n      <td>10727.466667</td>\n    </tr>\n    <tr>\n      <th>1</th>\n      <td>River North</td>\n      <td>9523.666667</td>\n    </tr>\n    <tr>\n      <th>2</th>\n      <td>Streeterville</td>\n      <td>6664.666667</td>\n    </tr>\n    <tr>\n      <th>3</th>\n      <td>West Loop</td>\n      <td>5163.666667</td>\n    </tr>\n    <tr>\n      <th>4</th>\n      <td>O'Hare</td>\n      <td>2546.900000</td>\n    </tr>\n  </tbody>\n</table>\n</div>"
     },
     "execution_count": 9,
     "metadata": {},
     "output_type": "execute_result"
    }
   ],
   "source": [
    "# Se imprime una muestra de los datos\n",
    "data_location.head()"
   ]
  },
  {
   "cell_type": "markdown",
   "metadata": {},
   "source": [
    "El segundo dataset `data_location` contiene los siguientes datos:\n",
    "- `dropoff_location_name`: barrios de Chicago donde finalizaron los viajes.\n",
    "- `average_trips`: el promedio de viajes que terminaron en cada barrio en noviembre de 2017."
   ]
  },
  {
   "cell_type": "code",
   "execution_count": 10,
   "metadata": {
    "ExecuteTime": {
     "end_time": "2023-07-18T03:36:25.459130100Z",
     "start_time": "2023-07-18T03:36:25.231132200Z"
    }
   },
   "outputs": [
    {
     "data": {
      "text/plain": "       average_trips\ncount      94.000000\nmean      599.953728\nstd      1714.591098\nmin         1.800000\n25%        14.266667\n50%        52.016667\n75%       298.858333\nmax     10727.466667",
      "text/html": "<div>\n<style scoped>\n    .dataframe tbody tr th:only-of-type {\n        vertical-align: middle;\n    }\n\n    .dataframe tbody tr th {\n        vertical-align: top;\n    }\n\n    .dataframe thead th {\n        text-align: right;\n    }\n</style>\n<table border=\"1\" class=\"dataframe\">\n  <thead>\n    <tr style=\"text-align: right;\">\n      <th></th>\n      <th>average_trips</th>\n    </tr>\n  </thead>\n  <tbody>\n    <tr>\n      <th>count</th>\n      <td>94.000000</td>\n    </tr>\n    <tr>\n      <th>mean</th>\n      <td>599.953728</td>\n    </tr>\n    <tr>\n      <th>std</th>\n      <td>1714.591098</td>\n    </tr>\n    <tr>\n      <th>min</th>\n      <td>1.800000</td>\n    </tr>\n    <tr>\n      <th>25%</th>\n      <td>14.266667</td>\n    </tr>\n    <tr>\n      <th>50%</th>\n      <td>52.016667</td>\n    </tr>\n    <tr>\n      <th>75%</th>\n      <td>298.858333</td>\n    </tr>\n    <tr>\n      <th>max</th>\n      <td>10727.466667</td>\n    </tr>\n  </tbody>\n</table>\n</div>"
     },
     "execution_count": 10,
     "metadata": {},
     "output_type": "execute_result"
    }
   ],
   "source": [
    "# Se imprime una descripción de los datos\n",
    "data_location.describe()"
   ]
  },
  {
   "cell_type": "code",
   "execution_count": 11,
   "metadata": {
    "ExecuteTime": {
     "end_time": "2023-07-18T03:36:25.460126900Z",
     "start_time": "2023-07-18T03:36:25.263129800Z"
    }
   },
   "outputs": [
    {
     "name": "stdout",
     "output_type": "stream",
     "text": [
      "Datos duplicados en el dataset: 0\n"
     ]
    }
   ],
   "source": [
    "# Verificamos que no haya datos duplicados en el dataset\n",
    "print('Datos duplicados en el dataset:', data_location.duplicated().sum())"
   ]
  },
  {
   "cell_type": "markdown",
   "metadata": {},
   "source": [
    "Al ver la muestra y resumen del dataset no encontramos datos faltantes ni duplicados, sin embargo el tipo de de dato de la columna `average_trips` vienen en float pero consideramos que pasarlo a int ayudaria a que el análisis sea más robusto"
   ]
  },
  {
   "cell_type": "code",
   "execution_count": 12,
   "metadata": {
    "ExecuteTime": {
     "end_time": "2023-07-18T03:36:25.461128900Z",
     "start_time": "2023-07-18T03:36:25.278132400Z"
    }
   },
   "outputs": [
    {
     "name": "stdout",
     "output_type": "stream",
     "text": [
      "<class 'pandas.core.frame.DataFrame'>\n",
      "RangeIndex: 1068 entries, 0 to 1067\n",
      "Data columns (total 3 columns):\n",
      " #   Column              Non-Null Count  Dtype  \n",
      "---  ------              --------------  -----  \n",
      " 0   start_ts            1068 non-null   object \n",
      " 1   weather_conditions  1068 non-null   object \n",
      " 2   duration_seconds    1068 non-null   float64\n",
      "dtypes: float64(1), object(2)\n",
      "memory usage: 25.2+ KB\n"
     ]
    }
   ],
   "source": [
    "# Imprimimos la información general/resumen sobre el 3er dataset\n",
    "data_trip.info()"
   ]
  },
  {
   "cell_type": "code",
   "execution_count": 13,
   "metadata": {
    "ExecuteTime": {
     "end_time": "2023-07-18T03:36:25.489129100Z",
     "start_time": "2023-07-18T03:36:25.309129Z"
    }
   },
   "outputs": [
    {
     "data": {
      "text/plain": "              start_ts weather_conditions  duration_seconds\n0  2017-11-25 16:00:00               Good            2410.0\n1  2017-11-25 14:00:00               Good            1920.0\n2  2017-11-25 12:00:00               Good            1543.0\n3  2017-11-04 10:00:00               Good            2512.0\n4  2017-11-11 07:00:00               Good            1440.0",
      "text/html": "<div>\n<style scoped>\n    .dataframe tbody tr th:only-of-type {\n        vertical-align: middle;\n    }\n\n    .dataframe tbody tr th {\n        vertical-align: top;\n    }\n\n    .dataframe thead th {\n        text-align: right;\n    }\n</style>\n<table border=\"1\" class=\"dataframe\">\n  <thead>\n    <tr style=\"text-align: right;\">\n      <th></th>\n      <th>start_ts</th>\n      <th>weather_conditions</th>\n      <th>duration_seconds</th>\n    </tr>\n  </thead>\n  <tbody>\n    <tr>\n      <th>0</th>\n      <td>2017-11-25 16:00:00</td>\n      <td>Good</td>\n      <td>2410.0</td>\n    </tr>\n    <tr>\n      <th>1</th>\n      <td>2017-11-25 14:00:00</td>\n      <td>Good</td>\n      <td>1920.0</td>\n    </tr>\n    <tr>\n      <th>2</th>\n      <td>2017-11-25 12:00:00</td>\n      <td>Good</td>\n      <td>1543.0</td>\n    </tr>\n    <tr>\n      <th>3</th>\n      <td>2017-11-04 10:00:00</td>\n      <td>Good</td>\n      <td>2512.0</td>\n    </tr>\n    <tr>\n      <th>4</th>\n      <td>2017-11-11 07:00:00</td>\n      <td>Good</td>\n      <td>1440.0</td>\n    </tr>\n  </tbody>\n</table>\n</div>"
     },
     "execution_count": 13,
     "metadata": {},
     "output_type": "execute_result"
    }
   ],
   "source": [
    "# Se imprime una muestra de los datos\n",
    "data_trip.head()"
   ]
  },
  {
   "cell_type": "markdown",
   "metadata": {},
   "source": [
    "El 3er dataset `data_trip` contiene los siguientes datos:\n",
    "- `start_ts`: fecha y hora de recogida\n",
    "- `weather_conditions`: condiciones climáticas en el momento en el que comenzó el viaje\n",
    "- `duration_seconds`: duración del viaje en segundos"
   ]
  },
  {
   "cell_type": "code",
   "execution_count": 14,
   "metadata": {
    "ExecuteTime": {
     "end_time": "2023-07-18T03:36:25.673126Z",
     "start_time": "2023-07-18T03:36:25.328132100Z"
    }
   },
   "outputs": [
    {
     "data": {
      "text/plain": "       duration_seconds\ncount       1068.000000\nmean        2071.731273\nstd          769.461125\nmin            0.000000\n25%         1438.250000\n50%         1980.000000\n75%         2580.000000\nmax         7440.000000",
      "text/html": "<div>\n<style scoped>\n    .dataframe tbody tr th:only-of-type {\n        vertical-align: middle;\n    }\n\n    .dataframe tbody tr th {\n        vertical-align: top;\n    }\n\n    .dataframe thead th {\n        text-align: right;\n    }\n</style>\n<table border=\"1\" class=\"dataframe\">\n  <thead>\n    <tr style=\"text-align: right;\">\n      <th></th>\n      <th>duration_seconds</th>\n    </tr>\n  </thead>\n  <tbody>\n    <tr>\n      <th>count</th>\n      <td>1068.000000</td>\n    </tr>\n    <tr>\n      <th>mean</th>\n      <td>2071.731273</td>\n    </tr>\n    <tr>\n      <th>std</th>\n      <td>769.461125</td>\n    </tr>\n    <tr>\n      <th>min</th>\n      <td>0.000000</td>\n    </tr>\n    <tr>\n      <th>25%</th>\n      <td>1438.250000</td>\n    </tr>\n    <tr>\n      <th>50%</th>\n      <td>1980.000000</td>\n    </tr>\n    <tr>\n      <th>75%</th>\n      <td>2580.000000</td>\n    </tr>\n    <tr>\n      <th>max</th>\n      <td>7440.000000</td>\n    </tr>\n  </tbody>\n</table>\n</div>"
     },
     "execution_count": 14,
     "metadata": {},
     "output_type": "execute_result"
    }
   ],
   "source": [
    "# Se imprime una descripción de los datos\n",
    "data_trip.describe()"
   ]
  },
  {
   "cell_type": "code",
   "execution_count": 15,
   "metadata": {
    "ExecuteTime": {
     "end_time": "2023-07-18T03:36:25.712128800Z",
     "start_time": "2023-07-18T03:36:25.356130700Z"
    }
   },
   "outputs": [
    {
     "name": "stdout",
     "output_type": "stream",
     "text": [
      "Datos duplicados en el dataset: 197\n"
     ]
    }
   ],
   "source": [
    "# Verificamos que no haya datos duplicados en el dataset\n",
    "print('Datos duplicados en el dataset:', data_trip.duplicated().sum())"
   ]
  },
  {
   "cell_type": "markdown",
   "metadata": {},
   "source": [
    "Al ver la muestra y resumen del dataset no encontramos datos faltantes sin embargo, tenemos datos duplicados que tenemos que corregir y ajustar los tipos de las columnas `start_ts` y `duration_seconds`. La primera columna hay que pasarla al formato de fecha y la ùltima columna hay que pasarla de float a int"
   ]
  },
  {
   "cell_type": "markdown",
   "metadata": {},
   "source": [
    "### Corregir datos"
   ]
  },
  {
   "cell_type": "markdown",
   "metadata": {},
   "source": [
    "Pasaremos el tipo de dato float a int para la columna `average_trips`"
   ]
  },
  {
   "cell_type": "code",
   "execution_count": 16,
   "metadata": {
    "ExecuteTime": {
     "end_time": "2023-07-18T03:36:25.714130400Z",
     "start_time": "2023-07-18T03:36:25.371131Z"
    }
   },
   "outputs": [
    {
     "data": {
      "text/plain": "  dropoff_location_name  average_trips\n0                  Loop          10727\n1           River North           9523\n2         Streeterville           6664\n3             West Loop           5163\n4                O'Hare           2546",
      "text/html": "<div>\n<style scoped>\n    .dataframe tbody tr th:only-of-type {\n        vertical-align: middle;\n    }\n\n    .dataframe tbody tr th {\n        vertical-align: top;\n    }\n\n    .dataframe thead th {\n        text-align: right;\n    }\n</style>\n<table border=\"1\" class=\"dataframe\">\n  <thead>\n    <tr style=\"text-align: right;\">\n      <th></th>\n      <th>dropoff_location_name</th>\n      <th>average_trips</th>\n    </tr>\n  </thead>\n  <tbody>\n    <tr>\n      <th>0</th>\n      <td>Loop</td>\n      <td>10727</td>\n    </tr>\n    <tr>\n      <th>1</th>\n      <td>River North</td>\n      <td>9523</td>\n    </tr>\n    <tr>\n      <th>2</th>\n      <td>Streeterville</td>\n      <td>6664</td>\n    </tr>\n    <tr>\n      <th>3</th>\n      <td>West Loop</td>\n      <td>5163</td>\n    </tr>\n    <tr>\n      <th>4</th>\n      <td>O'Hare</td>\n      <td>2546</td>\n    </tr>\n  </tbody>\n</table>\n</div>"
     },
     "execution_count": 16,
     "metadata": {},
     "output_type": "execute_result"
    }
   ],
   "source": [
    "# Hacemos el cambio de tipo float a int\n",
    "data_location['average_trips'] = data_location['average_trips'].astype(int)\n",
    "# Verificamos que el cambio este hecho\n",
    "data_location.head()"
   ]
  },
  {
   "cell_type": "markdown",
   "metadata": {},
   "source": [
    "Pasamos al dataset `data_trip` para hacer las correcciones de los tipos de datos"
   ]
  },
  {
   "cell_type": "code",
   "execution_count": 17,
   "metadata": {
    "ExecuteTime": {
     "end_time": "2023-07-18T03:36:25.744132300Z",
     "start_time": "2023-07-18T03:36:25.389132500Z"
    }
   },
   "outputs": [
    {
     "name": "stdout",
     "output_type": "stream",
     "text": [
      "<class 'pandas.core.frame.DataFrame'>\n",
      "RangeIndex: 1068 entries, 0 to 1067\n",
      "Data columns (total 3 columns):\n",
      " #   Column              Non-Null Count  Dtype         \n",
      "---  ------              --------------  -----         \n",
      " 0   start_ts            1068 non-null   datetime64[ns]\n",
      " 1   weather_conditions  1068 non-null   object        \n",
      " 2   duration_seconds    1068 non-null   int32         \n",
      "dtypes: datetime64[ns](1), int32(1), object(1)\n",
      "memory usage: 21.0+ KB\n"
     ]
    }
   ],
   "source": [
    "# Ajustamos la primera columna start_ts\n",
    "data_trip['start_ts'] = pd.to_datetime(data_trip['start_ts'], format='%Y-%m-%d %H:%M:%S')\n",
    "# Hacemos el cambio de tipo float a int en la segunda columna\n",
    "data_trip['duration_seconds'] = data_trip['duration_seconds'].astype(int)\n",
    "# Verificamos que este hecho el cambio correctamente\n",
    "data_trip.info()"
   ]
  },
  {
   "cell_type": "markdown",
   "metadata": {},
   "source": [
    "Eliminaremos los datos duplicados que encontramos"
   ]
  },
  {
   "cell_type": "code",
   "execution_count": 18,
   "metadata": {
    "ExecuteTime": {
     "end_time": "2023-07-18T03:36:25.778128100Z",
     "start_time": "2023-07-18T03:36:25.419129800Z"
    }
   },
   "outputs": [
    {
     "name": "stdout",
     "output_type": "stream",
     "text": [
      "Datos duplicados en el dataset: 0\n"
     ]
    }
   ],
   "source": [
    "# Eliminacion de duplicados\n",
    "data_trip = data_trip.drop_duplicates().reset_index(drop=True)\n",
    "\n",
    "# Verificamos que esten eliminados\n",
    "print('Datos duplicados en el dataset:', data_trip.duplicated().sum())"
   ]
  },
  {
   "cell_type": "markdown",
   "metadata": {},
   "source": [
    "## Analizar los datos"
   ]
  },
  {
   "cell_type": "markdown",
   "metadata": {},
   "source": [
    "### Top 10 principales barrios en términos de finalización"
   ]
  },
  {
   "cell_type": "markdown",
   "metadata": {},
   "source": [
    "Como primer análisis, se identificaran los 10 principales barrios donde más viajes se terminen"
   ]
  },
  {
   "cell_type": "code",
   "execution_count": 19,
   "metadata": {
    "ExecuteTime": {
     "end_time": "2023-07-18T03:36:25.779129Z",
     "start_time": "2023-07-18T03:36:25.450130700Z"
    }
   },
   "outputs": [
    {
     "data": {
      "text/plain": "  dropoff_location_name  average_trips\n0                  Loop          10727\n1           River North           9523\n2         Streeterville           6664\n3             West Loop           5163\n4                O'Hare           2546\n5             Lake View           2420\n6            Grant Park           2068\n7         Museum Campus           1510\n8            Gold Coast           1364\n9    Sheffield & DePaul           1259",
      "text/html": "<div>\n<style scoped>\n    .dataframe tbody tr th:only-of-type {\n        vertical-align: middle;\n    }\n\n    .dataframe tbody tr th {\n        vertical-align: top;\n    }\n\n    .dataframe thead th {\n        text-align: right;\n    }\n</style>\n<table border=\"1\" class=\"dataframe\">\n  <thead>\n    <tr style=\"text-align: right;\">\n      <th></th>\n      <th>dropoff_location_name</th>\n      <th>average_trips</th>\n    </tr>\n  </thead>\n  <tbody>\n    <tr>\n      <th>0</th>\n      <td>Loop</td>\n      <td>10727</td>\n    </tr>\n    <tr>\n      <th>1</th>\n      <td>River North</td>\n      <td>9523</td>\n    </tr>\n    <tr>\n      <th>2</th>\n      <td>Streeterville</td>\n      <td>6664</td>\n    </tr>\n    <tr>\n      <th>3</th>\n      <td>West Loop</td>\n      <td>5163</td>\n    </tr>\n    <tr>\n      <th>4</th>\n      <td>O'Hare</td>\n      <td>2546</td>\n    </tr>\n    <tr>\n      <th>5</th>\n      <td>Lake View</td>\n      <td>2420</td>\n    </tr>\n    <tr>\n      <th>6</th>\n      <td>Grant Park</td>\n      <td>2068</td>\n    </tr>\n    <tr>\n      <th>7</th>\n      <td>Museum Campus</td>\n      <td>1510</td>\n    </tr>\n    <tr>\n      <th>8</th>\n      <td>Gold Coast</td>\n      <td>1364</td>\n    </tr>\n    <tr>\n      <th>9</th>\n      <td>Sheffield &amp; DePaul</td>\n      <td>1259</td>\n    </tr>\n  </tbody>\n</table>\n</div>"
     },
     "execution_count": 19,
     "metadata": {},
     "output_type": "execute_result"
    }
   ],
   "source": [
    "top10_location = data_location.sort_values(by='average_trips', ascending=False).head(10)\n",
    "top10_location"
   ]
  },
  {
   "cell_type": "markdown",
   "metadata": {},
   "source": [
    "En el top 3 tenemos a los barrios de Loop, River North y Streeterville. El barrio Loop tiene un promedio de 10,727 viajes finalizados, es muy popular."
   ]
  },
  {
   "cell_type": "markdown",
   "metadata": {},
   "source": [
    "### Realizar visualizaciones"
   ]
  },
  {
   "cell_type": "markdown",
   "metadata": {},
   "source": [
    "Para este apartado realizaremos 2 gráficos:\n",
    "1. Las empresas de taxi y su número de viajes realizados\n",
    "2. Top 10 barrios principales por el número de finalizaciones de viajes"
   ]
  },
  {
   "cell_type": "code",
   "execution_count": 20,
   "metadata": {
    "ExecuteTime": {
     "end_time": "2023-07-18T03:36:26.466126700Z",
     "start_time": "2023-07-18T03:36:25.468133Z"
    }
   },
   "outputs": [
    {
     "data": {
      "text/plain": "<AxesSubplot:title={'center':'Top 10 compañias de taxis por número de viajes'}, ylabel='Nombre de la compañia'>"
     },
     "execution_count": 20,
     "metadata": {},
     "output_type": "execute_result"
    },
    {
     "data": {
      "text/plain": "<Figure size 432x288 with 1 Axes>",
      "image/png": "[encoded data removed]"
     },
     "metadata": {
      "needs_background": "light"
     },
     "output_type": "display_data"
    }
   ],
   "source": [
    "# Grafico de empresas y numero de viajes\n",
    "data_company.sort_values(by='trips_amount', ascending=False).head(10).sort_values(by='trips_amount', ascending=True).plot.barh(x='company_name', title='Top 10 compañias de taxis por número de viajes',\n",
    "                     grid=True, xlabel='Nombre de la compañia')"
   ]
  },
  {
   "cell_type": "markdown",
   "metadata": {},
   "source": [
    "Podemos generar las siguientes conclusiones de la gráfica:\n",
    "- Flash Cab domina los viajes en la zona con casi 20,000 viajes realizados entre el 15 y 16 de noviembre del 2017, el segundo por detrás de el es Taxi Affiliation Services con un poco más de 10,000 viajes realizados."
   ]
  },
  {
   "cell_type": "code",
   "execution_count": 21,
   "metadata": {
    "ExecuteTime": {
     "end_time": "2023-07-18T03:36:26.663129100Z",
     "start_time": "2023-07-18T03:36:25.979132200Z"
    }
   },
   "outputs": [
    {
     "data": {
      "text/plain": "<AxesSubplot:title={'center':'Top 10 barrios por viajes finalizados'}, ylabel='Nombre del barrio'>"
     },
     "execution_count": 21,
     "metadata": {},
     "output_type": "execute_result"
    },
    {
     "data": {
      "text/plain": "<Figure size 432x288 with 1 Axes>",
      "image/png": "[encoded data removed]"
     },
     "metadata": {
      "needs_background": "light"
     },
     "output_type": "display_data"
    }
   ],
   "source": [
    "top10_location.sort_values(by='average_trips', ascending=True).plot.barh(x='dropoff_location_name', title='Top 10 barrios por viajes finalizados',\n",
    "                     grid=True, xlabel='Nombre del barrio')"
   ]
  },
  {
   "cell_type": "markdown",
   "metadata": {},
   "source": [
    "Podemos generar las siguientes conclusiones de la gráfica:\n",
    "- El barrio de Loop es el barrio más popular ya que en el mes de noviembre recibio más de 10,000 viajes terminados en esta zona, quedando en 2da posición el barrio de River North con una media de 9,000 viajes terminados.\n",
    "- Los barrios menos visitados del top 10 por los usuarios serian el barrio de Gold Coast, el Museum Campus y el Sheffield & DePaul con menos de 2000 viajes terminados en estas zonas"
   ]
  },
  {
   "cell_type": "markdown",
   "metadata": {},
   "source": [
    "# Prueba de hipótesis"
   ]
  },
  {
   "cell_type": "markdown",
   "metadata": {},
   "source": [
    "Para nuestro ultimo apartado, tenemos una hipotesis que deberemos probar y con base a los resultados daremos insights que puedan ayudarnos en nuestras conclusiones finales."
   ]
  },
  {
   "cell_type": "code",
   "execution_count": 22,
   "metadata": {
    "ExecuteTime": {
     "end_time": "2023-07-18T03:36:26.664130800Z",
     "start_time": "2023-07-18T03:36:26.306129800Z"
    }
   },
   "outputs": [
    {
     "data": {
      "text/plain": "             start_ts weather_conditions  duration_seconds\n0 2017-11-25 16:00:00               Good              2410\n1 2017-11-25 14:00:00               Good              1920\n2 2017-11-25 12:00:00               Good              1543\n3 2017-11-04 10:00:00               Good              2512\n4 2017-11-11 07:00:00               Good              1440",
      "text/html": "<div>\n<style scoped>\n    .dataframe tbody tr th:only-of-type {\n        vertical-align: middle;\n    }\n\n    .dataframe tbody tr th {\n        vertical-align: top;\n    }\n\n    .dataframe thead th {\n        text-align: right;\n    }\n</style>\n<table border=\"1\" class=\"dataframe\">\n  <thead>\n    <tr style=\"text-align: right;\">\n      <th></th>\n      <th>start_ts</th>\n      <th>weather_conditions</th>\n      <th>duration_seconds</th>\n    </tr>\n  </thead>\n  <tbody>\n    <tr>\n      <th>0</th>\n      <td>2017-11-25 16:00:00</td>\n      <td>Good</td>\n      <td>2410</td>\n    </tr>\n    <tr>\n      <th>1</th>\n      <td>2017-11-25 14:00:00</td>\n      <td>Good</td>\n      <td>1920</td>\n    </tr>\n    <tr>\n      <th>2</th>\n      <td>2017-11-25 12:00:00</td>\n      <td>Good</td>\n      <td>1543</td>\n    </tr>\n    <tr>\n      <th>3</th>\n      <td>2017-11-04 10:00:00</td>\n      <td>Good</td>\n      <td>2512</td>\n    </tr>\n    <tr>\n      <th>4</th>\n      <td>2017-11-11 07:00:00</td>\n      <td>Good</td>\n      <td>1440</td>\n    </tr>\n  </tbody>\n</table>\n</div>"
     },
     "execution_count": 22,
     "metadata": {},
     "output_type": "execute_result"
    }
   ],
   "source": [
    "data_trip.head()"
   ]
  },
  {
   "cell_type": "markdown",
   "metadata": {},
   "source": [
    "Una vez realizados los cambios, podemos seguir con nuestra prueba.\n",
    "\n",
    "Las hipótesis a probar es la siguiente:\n",
    "1. La duración promedio de los viajes desde el Loop hasta el Aeropuerto Internacional O'Hare cambia los sábados lluviosos.\n",
    "- Hipotesis nula: `La duración promedio de los viajes desde el Loop hasta el Aeropuerto Internacional O'Hare no cambia los sábados lluviosos`\n",
    "- Hipotesis alternativa: `La duración promedio de los viajes desde el Loop hasta el Aeropuerto Internacional O'Hare cambia los sábados lluviosos`\n",
    "Para ello, ocuparemos la formula de la hipótesis sobre la igualdad de las medias de dos poblaciones y la prueba de Levene con un nivel de significancia estadistica critico del 5%."
   ]
  },
  {
   "cell_type": "code",
   "execution_count": 23,
   "metadata": {
    "ExecuteTime": {
     "end_time": "2023-07-18T03:36:26.664130800Z",
     "start_time": "2023-07-18T03:36:26.324128600Z"
    }
   },
   "outputs": [
    {
     "name": "stdout",
     "output_type": "stream",
     "text": [
      "El valor de equal_var es: True\n",
      "p-value:  7.397770692813604e-08\n",
      "Rechazamos la hipótesis nula\n"
     ]
    }
   ],
   "source": [
    "# Seleccionamos la data de sabados lluviosos\n",
    "data_sabados_lluvia = data_trip.query(\"weather_conditions == 'Bad'\")['duration_seconds']\n",
    "\n",
    "# Seleccionamos la data de sabados sin lluvia\n",
    "data_sabados_sinlluvia = data_trip.query(\"weather_conditions == 'Good'\")['duration_seconds']\n",
    "\n",
    "alpha = 0.05 # el nivel de significancia estadística crítica\n",
    "\n",
    "# Prueba Levene\n",
    "results_levene = st.levene(data_sabados_lluvia, data_sabados_sinlluvia)\n",
    "\n",
    "if results_levene.pvalue < alpha:\n",
    "    equal_var=False\n",
    "else:\n",
    "    equal_var=True\n",
    "    \n",
    "print('El valor de equal_var es:', equal_var)\n",
    "    \n",
    "# Prueba T\n",
    "\n",
    "results = st.ttest_ind(data_sabados_lluvia, data_sabados_sinlluvia, equal_var=equal_var)\n",
    "\n",
    "print('p-value: ', results.pvalue)\n",
    "\n",
    "if results.pvalue < alpha:\n",
    "    print(\"Rechazamos la hipótesis nula\")\n",
    "else:\n",
    "    print(\"No rechazamos la hipótesis nula\")"
   ]
  },
  {
   "cell_type": "markdown",
   "metadata": {},
   "source": [
    "Una vez realizado el test, tenemos el siguiente resultado:\n",
    "\n",
    "- El resultado nos dice que las cantidades promedio son diferentes y que existe un probabilidad infima de obtener aleatoriamente una diferencia aleatoria de ese tamaño o mayor. Esta probabilidad es menor a nuestro nivel de significancia estadistica por lo que podemos concluir que existe una diferencia significativa entre los promedios de los viajes entre los dias lluviosos y los despejados."
   ]
  },
  {
   "cell_type": "markdown",
   "metadata": {},
   "source": [
    "# Conclusiones generales"
   ]
  },
  {
   "cell_type": "markdown",
   "metadata": {},
   "source": [
    "Recopilando todos nuestros análisis y conclusiones intermedias; teniendo en cuenta nuestro objetivo principal de identificar patrones que nos permitan identificar si un juego tendra éxito o no, presentamos nuestras conclusiones finales del análisis.\n",
    "\n",
    "- La compañia Flash Cab domina los viajes en la zona con casi 20,000 viajes realizados entre el 15 y 16 de noviembre del 2017, el segundo por detrás de el es Taxi Affiliation Services con un poco más de 10,000 viajes realizados por lo que podemos decir que son las compañias más solicitadas por los usuarios o las que más unidades tienen de servicio.\n",
    "- Podemos notar que hay compañias privadas o pequeñas que ofrecen sus servicios pero son ocupadas muy poco, por lo que podemos concluir que los usuarios no confian mucho en estos servicios o bien puede ser que no haya muchos taxis disponibles\n",
    "- El barrio de Loop es el barrio más popular ya que en el mes de noviembre recibio más de 10,000 viajes terminados en esta zona, quedando en 2da posición el barrio de River North con una media de 9,000 viajes terminados.\n",
    "- Los barrios menos visitados por los usuarios serian el barrio de Gold Coast, el Museum Campus y el Sheffield & DePaul con menos de 2000 viajes terminados en estas zonas\n",
    "- Se confirmo una diferencia significativa entre los promedios de duración de los viajes hechos en dias lluviosos y dias despejados, por lo que es un factor externo de suma importancia."
   ]
  }
 ],
 "metadata": {
  "kernelspec": {
   "display_name": "Python 3 (ipykernel)",
   "language": "python",
   "name": "python3"
  },
  "language_info": {
   "codemirror_mode": {
    "name": "ipython",
    "version": 3
   },
   "file_extension": ".py",
   "mimetype": "text/x-python",
   "name": "python",
   "nbconvert_exporter": "python",
   "pygments_lexer": "ipython3",
   "version": "3.9.5"
  },
  "toc": {
   "base_numbering": 1,
   "nav_menu": {},
   "number_sections": true,
   "sideBar": true,
   "skip_h1_title": true,
   "title_cell": "Table of Contents",
   "title_sidebar": "Contents",
   "toc_cell": false,
   "toc_position": {},
   "toc_section_display": true,
   "toc_window_display": false
  }
 },
 "nbformat": 4,
 "nbformat_minor": 2
}
